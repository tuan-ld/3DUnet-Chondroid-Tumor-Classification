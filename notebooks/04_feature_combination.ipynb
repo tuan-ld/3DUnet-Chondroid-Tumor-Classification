{
 "cells": [
  {
   "cell_type": "code",
   "execution_count": null,
   "metadata": {},
   "outputs": [],
   "source": [
    "# 04_feature_combination.ipynb\n",
    "\n",
    "import subprocess\n",
    "import pandas as pd\n",
    "\n",
    "# File paths for combined feature outputs\n",
    "combined_file_1 = './features_csv/radiomics_deep_learning_clinical_features.csv'\n",
    "combined_file_2 = './features_csv/radiomics_deep_learning_features.csv'\n",
    "combined_file_3 = './features_csv/radiomics_deep_roi_clinical_features.csv'\n",
    "\n",
    "# Step 1: Run the feature combination scripts\n",
    "\n",
    "# Run Radiomics + Deep Learning + Clinical Features script\n",
    "print(\"Running Radiomics + Deep Learning + Clinical Features combination...\")\n",
    "subprocess.run([\"python\", \"radiomics_deep_learning_clinical_features.py\"])\n",
    "print(f\"Combined features saved to {combined_file_1}\")\n",
    "\n",
    "# Run Radiomics + Deep Learning Features script\n",
    "print(\"Running Radiomics + Deep Learning Features combination...\")\n",
    "subprocess.run([\"python\", \"radiomics_deep_learning_features.py\"])\n",
    "print(f\"Combined features saved to {combined_file_2}\")\n",
    "\n",
    "# Run Radiomics + ROI Deep Learning + Clinical Features script\n",
    "print(\"Running Radiomics + ROI Deep Learning + Clinical Features combination...\")\n",
    "subprocess.run([\"python\", \"radiomics_deep_roi_clinical_features.py\"])\n",
    "print(f\"Combined features saved to {combined_file_3}\")\n",
    "\n",
    "# Step 2: Load and display the combined feature files\n",
    "\n",
    "print(\"\\nPreview of Combined Feature DataFrames:\")\n",
    "print(\"\\nRadiomics + Deep Learning + Clinical Features:\")\n",
    "combined_df_1 = pd.read_csv(combined_file_1)\n",
    "display(combined_df_1.head())\n",
    "\n",
    "print(\"\\nRadiomics + Deep Learning Features:\")\n",
    "combined_df_2 = pd.read_csv(combined_file_2)\n",
    "display(combined_df_2.head())\n",
    "\n",
    "print(\"\\nRadiomics + ROI Deep Learning + Clinical Features:\")\n",
    "combined_df_3 = pd.read_csv(combined_file_3)\n",
    "display(combined_df_3.head())\n"
   ]
  }
 ],
 "metadata": {
  "kernelspec": {
   "display_name": "venv-chondroid",
   "language": "python",
   "name": "venv-chondroid"
  },
  "language_info": {
   "name": "python",
   "version": "3.12.2"
  }
 },
 "nbformat": 4,
 "nbformat_minor": 2
}
