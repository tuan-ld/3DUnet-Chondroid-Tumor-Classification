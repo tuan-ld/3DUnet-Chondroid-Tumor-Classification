{
 "cells": [
  {
   "cell_type": "code",
   "execution_count": null,
   "metadata": {},
   "outputs": [],
   "source": [
    "# 02_segmentation_training.ipynb\n",
    "\n",
    "# Import necessary libraries and modules\n",
    "import os\n",
    "from src.segmentation.segmentation_pipeline import NnUNetPipeline\n",
    "\n",
    "# Set dataset and output directories\n",
    "dataset_dir = 'data/nnUnetv2/nnUNet_raw'\n",
    "output_dir = 'data/nnUnetv2/nnUNet_results'\n",
    "task_name = 'Task057_ChondroidTumor'\n",
    "\n",
    "# Initialize the nnU-Net pipeline\n",
    "pipeline = NnUNetPipeline(dataset_dir=dataset_dir, output_dir=output_dir, task_name=task_name)\n",
    "\n",
    "# Step 1: Prepare the data\n",
    "print(\"Step 1: Data Preparation\")\n",
    "pipeline.prepare_data()\n",
    "\n",
    "# Step 2: Train the nnU-Net model\n",
    "print(\"Step 2: Model Training\")\n",
    "pipeline.train_model(fold=0)\n",
    "\n",
    "# Step 3: Run Inference\n",
    "print(\"Step 3: Model Inference\")\n",
    "test_input_dir = os.path.join(dataset_dir, \"test_data\")  # Update this with actual test data path\n",
    "pred_output_dir = os.path.join(output_dir, \"predictions\")\n",
    "os.makedirs(pred_output_dir, exist_ok=True)\n",
    "\n",
    "pipeline.predict(input_dir=test_input_dir, output_dir=pred_output_dir)\n",
    "\n",
    "# Display completion message\n",
    "print(\"Segmentation pipeline completed. Predictions saved to:\", pred_output_dir)\n"
   ]
  }
 ],
 "metadata": {
  "language_info": {
   "name": "python"
  }
 },
 "nbformat": 4,
 "nbformat_minor": 2
}
